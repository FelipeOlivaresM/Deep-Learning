{
 "cells": [
  {
   "cell_type": "code",
   "execution_count": 2,
   "metadata": {},
   "outputs": [],
   "source": [
    "import numpy as np"
   ]
  },
  {
   "cell_type": "code",
   "execution_count": 6,
   "metadata": {},
   "outputs": [
    {
     "name": "stdout",
     "output_type": "stream",
     "text": [
      "[1 2 3 4]\n"
     ]
    }
   ],
   "source": [
    "# Crear \"a\" como una matriz, para imprimirla posteriormente.\n",
    "\n",
    "a = np.array([1,2,3,4])\n",
    "print(a)\n"
   ]
  },
  {
   "cell_type": "markdown",
   "metadata": {},
   "source": [
    "### Demostración de Vectorización"
   ]
  },
  {
   "cell_type": "code",
   "execution_count": 20,
   "metadata": {},
   "outputs": [
    {
     "name": "stdout",
     "output_type": "stream",
     "text": [
      "249298.78009898157\n",
      "Vectorized Version:1.386404037475586 ms\n",
      "249298.78009898408\n",
      "For loop:451.71666145324707 ms\n"
     ]
    }
   ],
   "source": [
    "# Demostración de Vectorización\n",
    "#Importar biblioteca Time para medir el tiempo de ejecución de las distintas operaciones.\n",
    "import time\n",
    "\n",
    "# Crear matriz aleatoria de tamaño \"un millon de valores\".\n",
    "\n",
    "a = np.random.rand(1000000)\n",
    "b = np.random.rand(1000000)\n",
    "\n",
    "# time.time regresa la hora actual.\n",
    "tic = time.time()\n",
    "# Realiza la operación matrizial\n",
    "c = np.dot(a,b)\n",
    "toc = time.time()\n",
    "\n",
    "print(c)\n",
    "# Imprimir versión vectorizada\n",
    "print(\"Vectorized Version:\" + str(1000*(toc-tic))+\" ms\")\n",
    "\n",
    "\n",
    "\n",
    "# Versión no vectorizada\n",
    "\n",
    "c = 0\n",
    "\n",
    "# time.time regresa la hora actual.\n",
    "tic = time.time()\n",
    "# Realiza la operación matrizial en un for loop\n",
    "\n",
    "for i in range(1000000):\n",
    "    c += a[i]*b[i]\n",
    "toc = time.time()\n",
    "\n",
    "print(c)\n",
    "\n",
    "print(\"For loop:\" + str(1000*(toc-tic))+\" ms\")"
   ]
  },
  {
   "cell_type": "markdown",
   "metadata": {},
   "source": [
    "### Instrucciones de paralelización\n",
    "#### SIMD - Single Instrucion Multiple Data"
   ]
  }
 ],
 "metadata": {
  "kernelspec": {
   "display_name": "Python 3",
   "language": "python",
   "name": "python3"
  },
  "language_info": {
   "codemirror_mode": {
    "name": "ipython",
    "version": 3
   },
   "file_extension": ".py",
   "mimetype": "text/x-python",
   "name": "python",
   "nbconvert_exporter": "python",
   "pygments_lexer": "ipython3",
   "version": "3.8.2"
  }
 },
 "nbformat": 4,
 "nbformat_minor": 4
}
